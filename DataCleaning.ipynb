{
 "cells": [
  {
   "cell_type": "code",
   "execution_count": 1,
   "id": "initial_id",
   "metadata": {
    "collapsed": true,
    "ExecuteTime": {
     "end_time": "2023-11-30T19:49:09.475526Z",
     "start_time": "2023-11-30T19:49:08.991085200Z"
    }
   },
   "outputs": [],
   "source": [
    "import pandas as pd\n",
    "\n",
    "file_path = \"df.csv\"\n",
    "\n",
    "df = pd.read_csv(file_path)"
   ]
  },
  {
   "cell_type": "code",
   "execution_count": 2,
   "outputs": [
    {
     "data": {
      "text/plain": "                                     Job Title               Salary Estimate  \\\n0                        Senior Data Scientist  $111K-$181K (Glassdoor est.)   \n1            Data Scientist, Product Analytics  $111K-$181K (Glassdoor est.)   \n2                         Data Science Manager  $111K-$181K (Glassdoor est.)   \n3                                 Data Analyst  $111K-$181K (Glassdoor est.)   \n4                       Director, Data Science  $111K-$181K (Glassdoor est.)   \n...                                        ...                           ...   \n5887       Manufacturing Data Analyst Engineer  $42K - $76K (Glassdoor est.)   \n5888                            Data Scientist                            -1   \n5889  Supply Chain Consultant - Data Scientist                            -1   \n5890                     Data Science Engineer                            -1   \n5891      Data Scientist/ Full Stack Developer            $65 - $72 Per Hour   \n\n      Rating                          Company Name       Location  \\\n0        3.5                           Hopper\\n3.5   New York, NY   \n1        4.5                          Noom US\\n4.5   New York, NY   \n2       -1.0                              Decode_M   New York, NY   \n3        3.4                 Sapphire Digital\\n3.4  Lyndhurst, NJ   \n4        3.4       United Entertainment Group\\n3.4   New York, NY   \n...      ...                                   ...            ...   \n5887     3.6                      Hose Master\\n3.6     Euclid, OH   \n5888     4.9                 Bluetree Network\\n4.9    Madison, WI   \n5889     4.0  Kimberly-Clark Corporation, LLC\\n4.0     Neenah, WI   \n5890     4.0            AE Business Solutions\\n4.0    Madison, WI   \n5891     3.7                           Epitec\\n3.7  Wisconsin, WI   \n\n                        Size Founded  Type of ownership  \\\n0      501 to 1000 employees    2007  Company - Private   \n1     1001 to 5000 employees    2008  Company - Private   \n2          1 to 50 employees      -1            Unknown   \n3       201 to 500 employees    2019  Company - Private   \n4        51 to 200 employees    2007  Company - Private   \n...                      ...     ...                ...   \n5887    201 to 500 Employees    1982  Company - Private   \n5888                      -1      -1                 -1   \n5889        10000+ Employees    1872   Company - Public   \n5890     51 to 200 Employees    1949  Company - Private   \n5891  1001 to 5000 Employees    1978  Company - Private   \n\n                                   Industry                  Sector  \\\n0                           Travel Agencies        Travel & Tourism   \n1                 Health, Beauty, & Fitness       Consumer Services   \n2                                        -1                      -1   \n3                                  Internet  Information Technology   \n4                   Advertising & Marketing       Business Services   \n...                                     ...                     ...   \n5887  Electrical & Electronic Manufacturing           Manufacturing   \n5888                                     -1                      -1   \n5889        Consumer Products Manufacturing           Manufacturing   \n5890           Computer Hardware & Software  Information Technology   \n5891                 Staffing & Outsourcing       Business Services   \n\n                         Revenue  \n0       Unknown / Non-Applicable  \n1       Unknown / Non-Applicable  \n2       Unknown / Non-Applicable  \n3       Unknown / Non-Applicable  \n4       Unknown / Non-Applicable  \n...                          ...  \n5887    Unknown / Non-Applicable  \n5888                          -1  \n5889          $10+ billion (USD)  \n5890    $25 to $50 million (USD)  \n5891  $100 to $500 million (USD)  \n\n[5892 rows x 11 columns]",
      "text/html": "<div>\n<style scoped>\n    .dataframe tbody tr th:only-of-type {\n        vertical-align: middle;\n    }\n\n    .dataframe tbody tr th {\n        vertical-align: top;\n    }\n\n    .dataframe thead th {\n        text-align: right;\n    }\n</style>\n<table border=\"1\" class=\"dataframe\">\n  <thead>\n    <tr style=\"text-align: right;\">\n      <th></th>\n      <th>Job Title</th>\n      <th>Salary Estimate</th>\n      <th>Rating</th>\n      <th>Company Name</th>\n      <th>Location</th>\n      <th>Size</th>\n      <th>Founded</th>\n      <th>Type of ownership</th>\n      <th>Industry</th>\n      <th>Sector</th>\n      <th>Revenue</th>\n    </tr>\n  </thead>\n  <tbody>\n    <tr>\n      <th>0</th>\n      <td>Senior Data Scientist</td>\n      <td>$111K-$181K (Glassdoor est.)</td>\n      <td>3.5</td>\n      <td>Hopper\\n3.5</td>\n      <td>New York, NY</td>\n      <td>501 to 1000 employees</td>\n      <td>2007</td>\n      <td>Company - Private</td>\n      <td>Travel Agencies</td>\n      <td>Travel &amp; Tourism</td>\n      <td>Unknown / Non-Applicable</td>\n    </tr>\n    <tr>\n      <th>1</th>\n      <td>Data Scientist, Product Analytics</td>\n      <td>$111K-$181K (Glassdoor est.)</td>\n      <td>4.5</td>\n      <td>Noom US\\n4.5</td>\n      <td>New York, NY</td>\n      <td>1001 to 5000 employees</td>\n      <td>2008</td>\n      <td>Company - Private</td>\n      <td>Health, Beauty, &amp; Fitness</td>\n      <td>Consumer Services</td>\n      <td>Unknown / Non-Applicable</td>\n    </tr>\n    <tr>\n      <th>2</th>\n      <td>Data Science Manager</td>\n      <td>$111K-$181K (Glassdoor est.)</td>\n      <td>-1.0</td>\n      <td>Decode_M</td>\n      <td>New York, NY</td>\n      <td>1 to 50 employees</td>\n      <td>-1</td>\n      <td>Unknown</td>\n      <td>-1</td>\n      <td>-1</td>\n      <td>Unknown / Non-Applicable</td>\n    </tr>\n    <tr>\n      <th>3</th>\n      <td>Data Analyst</td>\n      <td>$111K-$181K (Glassdoor est.)</td>\n      <td>3.4</td>\n      <td>Sapphire Digital\\n3.4</td>\n      <td>Lyndhurst, NJ</td>\n      <td>201 to 500 employees</td>\n      <td>2019</td>\n      <td>Company - Private</td>\n      <td>Internet</td>\n      <td>Information Technology</td>\n      <td>Unknown / Non-Applicable</td>\n    </tr>\n    <tr>\n      <th>4</th>\n      <td>Director, Data Science</td>\n      <td>$111K-$181K (Glassdoor est.)</td>\n      <td>3.4</td>\n      <td>United Entertainment Group\\n3.4</td>\n      <td>New York, NY</td>\n      <td>51 to 200 employees</td>\n      <td>2007</td>\n      <td>Company - Private</td>\n      <td>Advertising &amp; Marketing</td>\n      <td>Business Services</td>\n      <td>Unknown / Non-Applicable</td>\n    </tr>\n    <tr>\n      <th>...</th>\n      <td>...</td>\n      <td>...</td>\n      <td>...</td>\n      <td>...</td>\n      <td>...</td>\n      <td>...</td>\n      <td>...</td>\n      <td>...</td>\n      <td>...</td>\n      <td>...</td>\n      <td>...</td>\n    </tr>\n    <tr>\n      <th>5887</th>\n      <td>Manufacturing Data Analyst Engineer</td>\n      <td>$42K - $76K (Glassdoor est.)</td>\n      <td>3.6</td>\n      <td>Hose Master\\n3.6</td>\n      <td>Euclid, OH</td>\n      <td>201 to 500 Employees</td>\n      <td>1982</td>\n      <td>Company - Private</td>\n      <td>Electrical &amp; Electronic Manufacturing</td>\n      <td>Manufacturing</td>\n      <td>Unknown / Non-Applicable</td>\n    </tr>\n    <tr>\n      <th>5888</th>\n      <td>Data Scientist</td>\n      <td>-1</td>\n      <td>4.9</td>\n      <td>Bluetree Network\\n4.9</td>\n      <td>Madison, WI</td>\n      <td>-1</td>\n      <td>-1</td>\n      <td>-1</td>\n      <td>-1</td>\n      <td>-1</td>\n      <td>-1</td>\n    </tr>\n    <tr>\n      <th>5889</th>\n      <td>Supply Chain Consultant - Data Scientist</td>\n      <td>-1</td>\n      <td>4.0</td>\n      <td>Kimberly-Clark Corporation, LLC\\n4.0</td>\n      <td>Neenah, WI</td>\n      <td>10000+ Employees</td>\n      <td>1872</td>\n      <td>Company - Public</td>\n      <td>Consumer Products Manufacturing</td>\n      <td>Manufacturing</td>\n      <td>$10+ billion (USD)</td>\n    </tr>\n    <tr>\n      <th>5890</th>\n      <td>Data Science Engineer</td>\n      <td>-1</td>\n      <td>4.0</td>\n      <td>AE Business Solutions\\n4.0</td>\n      <td>Madison, WI</td>\n      <td>51 to 200 Employees</td>\n      <td>1949</td>\n      <td>Company - Private</td>\n      <td>Computer Hardware &amp; Software</td>\n      <td>Information Technology</td>\n      <td>$25 to $50 million (USD)</td>\n    </tr>\n    <tr>\n      <th>5891</th>\n      <td>Data Scientist/ Full Stack Developer</td>\n      <td>$65 - $72 Per Hour</td>\n      <td>3.7</td>\n      <td>Epitec\\n3.7</td>\n      <td>Wisconsin, WI</td>\n      <td>1001 to 5000 Employees</td>\n      <td>1978</td>\n      <td>Company - Private</td>\n      <td>Staffing &amp; Outsourcing</td>\n      <td>Business Services</td>\n      <td>$100 to $500 million (USD)</td>\n    </tr>\n  </tbody>\n</table>\n<p>5892 rows × 11 columns</p>\n</div>"
     },
     "execution_count": 2,
     "metadata": {},
     "output_type": "execute_result"
    }
   ],
   "source": [
    "df"
   ],
   "metadata": {
    "collapsed": false,
    "ExecuteTime": {
     "end_time": "2023-11-30T19:49:09.499947100Z",
     "start_time": "2023-11-30T19:49:09.475526Z"
    }
   },
   "id": "ef063d0e439e8831"
  },
  {
   "cell_type": "code",
   "execution_count": 3,
   "outputs": [
    {
     "data": {
      "text/plain": "'$111K-$181K (Glassdoor est.)'"
     },
     "execution_count": 3,
     "metadata": {},
     "output_type": "execute_result"
    }
   ],
   "source": [
    "df['Salary Estimate'][0]"
   ],
   "metadata": {
    "collapsed": false,
    "ExecuteTime": {
     "end_time": "2023-11-30T19:49:09.527440800Z",
     "start_time": "2023-11-30T19:49:09.499369100Z"
    }
   },
   "id": "43250d2c57e974a5"
  },
  {
   "cell_type": "code",
   "execution_count": 4,
   "outputs": [
    {
     "data": {
      "text/plain": "0        111 - 181  (Glassdoor est.)\n1        111 - 181  (Glassdoor est.)\n2        111 - 181  (Glassdoor est.)\n3        111 - 181  (Glassdoor est.)\n4        111 - 181  (Glassdoor est.)\n                    ...             \n5887     42  -  76  (Glassdoor est.)\n5888                              -1\n5889                              -1\n5890                              -1\n5891               65 -  72 Per Hour\nName: Salary Estimate, Length: 5892, dtype: object"
     },
     "execution_count": 4,
     "metadata": {},
     "output_type": "execute_result"
    }
   ],
   "source": [
    "def RemoveKAndDollarSign(sentence):\n",
    "    return sentence.replace(\"K\", \" \").replace(\"$\", \" \")\n",
    "\n",
    "\n",
    "df['Salary Estimate'].apply(RemoveKAndDollarSign)"
   ],
   "metadata": {
    "collapsed": false,
    "ExecuteTime": {
     "end_time": "2023-11-30T19:49:09.577659800Z",
     "start_time": "2023-11-30T19:49:09.515643500Z"
    }
   },
   "id": "97256ccec501bf7f"
  },
  {
   "cell_type": "code",
   "execution_count": 5,
   "outputs": [],
   "source": [
    "df['Salary Estimate'] = df['Salary Estimate'].apply(RemoveKAndDollarSign)"
   ],
   "metadata": {
    "collapsed": false,
    "ExecuteTime": {
     "end_time": "2023-11-30T19:49:09.597723100Z",
     "start_time": "2023-11-30T19:49:09.527440800Z"
    }
   },
   "id": "e4948eb4996a250c"
  },
  {
   "cell_type": "code",
   "execution_count": 6,
   "outputs": [
    {
     "data": {
      "text/plain": "                                              Job Title Salary Estimate  \\\n3950                      Technology Transfer Scientist              -1   \n3954                                     Data Scientist              -1   \n3965                      Technology Transfer Scientist              -1   \n3978  Assistant, Associate or Full Research Scientis...              -1   \n3997                       Principal Data Engineer (CA)              -1   \n...                                                 ...             ...   \n5884                Data & Modeling Sciences - Director              -1   \n5885                                      Data Engineer              -1   \n5888                                     Data Scientist              -1   \n5889           Supply Chain Consultant - Data Scientist              -1   \n5890                              Data Science Engineer              -1   \n\n      Rating                             Company Name       Location  \\\n3950    -1.0                        Lumos Diagnostics   Carlsbad, CA   \n3954     3.6  Penske Truck Leasing and Logistics\\n3.6  Beachwood, OH   \n3965    -1.0                        Lumos Diagnostics   Carlsbad, CA   \n3978     4.3                        UC San Diego\\n4.3     California   \n3997     4.5                              Movoto\\n4.5     California   \n...      ...                                      ...            ...   \n5884     4.2                    Procter & Gamble\\n4.2      Mason, OH   \n5885     3.6               Andela Talent Network\\n3.6           Ohio   \n5888     4.9                    Bluetree Network\\n4.9    Madison, WI   \n5889     4.0     Kimberly-Clark Corporation, LLC\\n4.0     Neenah, WI   \n5890     4.0               AE Business Solutions\\n4.0    Madison, WI   \n\n                        Size Founded     Type of ownership  \\\n3950                      -1      -1                    -1   \n3954        10000+ Employees    1969     Company - Private   \n3965                      -1      -1                    -1   \n3978        10000+ Employees    1960  College / University   \n3997    201 to 500 Employees    2004     Company - Private   \n...                      ...     ...                   ...   \n5884        10000+ Employees    1837      Company - Public   \n5885  1001 to 5000 Employees    2014     Company - Private   \n5888                      -1      -1                    -1   \n5889        10000+ Employees    1872      Company - Public   \n5890     51 to 200 Employees    1949     Company - Private   \n\n                             Industry                      Sector  \\\n3950                               -1                          -1   \n3954        Transportation Management  Transportation & Logistics   \n3965                               -1                          -1   \n3978          Colleges & Universities                   Education   \n3997                      Real Estate                 Real Estate   \n...                               ...                         ...   \n5884  Consumer Products Manufacturing               Manufacturing   \n5885           Staffing & Outsourcing           Business Services   \n5888                               -1                          -1   \n5889  Consumer Products Manufacturing               Manufacturing   \n5890     Computer Hardware & Software      Information Technology   \n\n                       Revenue  \n3950                        -1  \n3954   $5 to $10 billion (USD)  \n3965                        -1  \n3978  Unknown / Non-Applicable  \n3997  $10 to $25 million (USD)  \n...                        ...  \n5884        $10+ billion (USD)  \n5885  Unknown / Non-Applicable  \n5888                        -1  \n5889        $10+ billion (USD)  \n5890  $25 to $50 million (USD)  \n\n[366 rows x 11 columns]",
      "text/html": "<div>\n<style scoped>\n    .dataframe tbody tr th:only-of-type {\n        vertical-align: middle;\n    }\n\n    .dataframe tbody tr th {\n        vertical-align: top;\n    }\n\n    .dataframe thead th {\n        text-align: right;\n    }\n</style>\n<table border=\"1\" class=\"dataframe\">\n  <thead>\n    <tr style=\"text-align: right;\">\n      <th></th>\n      <th>Job Title</th>\n      <th>Salary Estimate</th>\n      <th>Rating</th>\n      <th>Company Name</th>\n      <th>Location</th>\n      <th>Size</th>\n      <th>Founded</th>\n      <th>Type of ownership</th>\n      <th>Industry</th>\n      <th>Sector</th>\n      <th>Revenue</th>\n    </tr>\n  </thead>\n  <tbody>\n    <tr>\n      <th>3950</th>\n      <td>Technology Transfer Scientist</td>\n      <td>-1</td>\n      <td>-1.0</td>\n      <td>Lumos Diagnostics</td>\n      <td>Carlsbad, CA</td>\n      <td>-1</td>\n      <td>-1</td>\n      <td>-1</td>\n      <td>-1</td>\n      <td>-1</td>\n      <td>-1</td>\n    </tr>\n    <tr>\n      <th>3954</th>\n      <td>Data Scientist</td>\n      <td>-1</td>\n      <td>3.6</td>\n      <td>Penske Truck Leasing and Logistics\\n3.6</td>\n      <td>Beachwood, OH</td>\n      <td>10000+ Employees</td>\n      <td>1969</td>\n      <td>Company - Private</td>\n      <td>Transportation Management</td>\n      <td>Transportation &amp; Logistics</td>\n      <td>$5 to $10 billion (USD)</td>\n    </tr>\n    <tr>\n      <th>3965</th>\n      <td>Technology Transfer Scientist</td>\n      <td>-1</td>\n      <td>-1.0</td>\n      <td>Lumos Diagnostics</td>\n      <td>Carlsbad, CA</td>\n      <td>-1</td>\n      <td>-1</td>\n      <td>-1</td>\n      <td>-1</td>\n      <td>-1</td>\n      <td>-1</td>\n    </tr>\n    <tr>\n      <th>3978</th>\n      <td>Assistant, Associate or Full Research Scientis...</td>\n      <td>-1</td>\n      <td>4.3</td>\n      <td>UC San Diego\\n4.3</td>\n      <td>California</td>\n      <td>10000+ Employees</td>\n      <td>1960</td>\n      <td>College / University</td>\n      <td>Colleges &amp; Universities</td>\n      <td>Education</td>\n      <td>Unknown / Non-Applicable</td>\n    </tr>\n    <tr>\n      <th>3997</th>\n      <td>Principal Data Engineer (CA)</td>\n      <td>-1</td>\n      <td>4.5</td>\n      <td>Movoto\\n4.5</td>\n      <td>California</td>\n      <td>201 to 500 Employees</td>\n      <td>2004</td>\n      <td>Company - Private</td>\n      <td>Real Estate</td>\n      <td>Real Estate</td>\n      <td>$10 to $25 million (USD)</td>\n    </tr>\n    <tr>\n      <th>...</th>\n      <td>...</td>\n      <td>...</td>\n      <td>...</td>\n      <td>...</td>\n      <td>...</td>\n      <td>...</td>\n      <td>...</td>\n      <td>...</td>\n      <td>...</td>\n      <td>...</td>\n      <td>...</td>\n    </tr>\n    <tr>\n      <th>5884</th>\n      <td>Data &amp; Modeling Sciences - Director</td>\n      <td>-1</td>\n      <td>4.2</td>\n      <td>Procter &amp; Gamble\\n4.2</td>\n      <td>Mason, OH</td>\n      <td>10000+ Employees</td>\n      <td>1837</td>\n      <td>Company - Public</td>\n      <td>Consumer Products Manufacturing</td>\n      <td>Manufacturing</td>\n      <td>$10+ billion (USD)</td>\n    </tr>\n    <tr>\n      <th>5885</th>\n      <td>Data Engineer</td>\n      <td>-1</td>\n      <td>3.6</td>\n      <td>Andela Talent Network\\n3.6</td>\n      <td>Ohio</td>\n      <td>1001 to 5000 Employees</td>\n      <td>2014</td>\n      <td>Company - Private</td>\n      <td>Staffing &amp; Outsourcing</td>\n      <td>Business Services</td>\n      <td>Unknown / Non-Applicable</td>\n    </tr>\n    <tr>\n      <th>5888</th>\n      <td>Data Scientist</td>\n      <td>-1</td>\n      <td>4.9</td>\n      <td>Bluetree Network\\n4.9</td>\n      <td>Madison, WI</td>\n      <td>-1</td>\n      <td>-1</td>\n      <td>-1</td>\n      <td>-1</td>\n      <td>-1</td>\n      <td>-1</td>\n    </tr>\n    <tr>\n      <th>5889</th>\n      <td>Supply Chain Consultant - Data Scientist</td>\n      <td>-1</td>\n      <td>4.0</td>\n      <td>Kimberly-Clark Corporation, LLC\\n4.0</td>\n      <td>Neenah, WI</td>\n      <td>10000+ Employees</td>\n      <td>1872</td>\n      <td>Company - Public</td>\n      <td>Consumer Products Manufacturing</td>\n      <td>Manufacturing</td>\n      <td>$10+ billion (USD)</td>\n    </tr>\n    <tr>\n      <th>5890</th>\n      <td>Data Science Engineer</td>\n      <td>-1</td>\n      <td>4.0</td>\n      <td>AE Business Solutions\\n4.0</td>\n      <td>Madison, WI</td>\n      <td>51 to 200 Employees</td>\n      <td>1949</td>\n      <td>Company - Private</td>\n      <td>Computer Hardware &amp; Software</td>\n      <td>Information Technology</td>\n      <td>$25 to $50 million (USD)</td>\n    </tr>\n  </tbody>\n</table>\n<p>366 rows × 11 columns</p>\n</div>"
     },
     "execution_count": 6,
     "metadata": {},
     "output_type": "execute_result"
    }
   ],
   "source": [
    "df[df['Salary Estimate'] == \"-1\"]"
   ],
   "metadata": {
    "collapsed": false,
    "ExecuteTime": {
     "end_time": "2023-11-30T19:49:09.654049200Z",
     "start_time": "2023-11-30T19:49:09.535745100Z"
    }
   },
   "id": "7b34c255dc666388"
  },
  {
   "cell_type": "code",
   "execution_count": 7,
   "outputs": [],
   "source": [
    "df = df[df['Salary Estimate'] != \"-1\"]"
   ],
   "metadata": {
    "collapsed": false,
    "ExecuteTime": {
     "end_time": "2023-11-30T19:49:09.654049200Z",
     "start_time": "2023-11-30T19:49:09.552483900Z"
    }
   },
   "id": "9b0c6cb789a2beb3"
  },
  {
   "cell_type": "code",
   "execution_count": 8,
   "outputs": [
    {
     "data": {
      "text/plain": "                                              Job Title  \\\n685             Clinical Laboratory Scientist, Per Diem   \n686                                    Sr. Data Analyst   \n687        Lead Data Science Instructor, Data Scientist   \n688   Clinical Laboratory Scientist (Per Diem, Varia...   \n689                                       Data Engineer   \n690          Clinical Laboratory Scientist - Generalist   \n691            Clinical Laboratory Scientist , Med Tech   \n1295                   Stafford Data Science Tutor Jobs   \n1296                     Spring Data Science Tutor Jobs   \n1297                 Sugar Land Data Science Tutor Jobs   \n2124                            Laboratory Scientist II   \n2125      Data Engineer - Top Secret w/ SCI Eligibility   \n2126                               Biological Scientist   \n2127                             TECHNICAL DATA ANALYST   \n2128                   Environmental Scientist/Engineer   \n2129               Data Analyst with Security Clearance   \n2130  Associate Scientist, Process Development & Man...   \n2131  Configuration Data Analyst, San Antonio, TX, U...   \n2132                             Research Scientist III   \n2133                               Senior Data Engineer   \n2134  Lead of Cybersecurity Data Protection & Analytics   \n3986  Clinical Laboratory Scientist, Full Time, Even...   \n4034                             Clinical Lab Scientist   \n5369  Senior Clinical Scientist/Director, Clinical S...   \n5618  Medical Lab Scientist (MLS) Mercy Health St. E...   \n5891               Data Scientist/ Full Stack Developer   \n\n                         Salary Estimate  Rating  \\\n685      34- 53 Per Hour(Glassdoor est.)     3.8   \n686      34- 53 Per Hour(Glassdoor est.)     2.8   \n687      34- 53 Per Hour(Glassdoor est.)    -1.0   \n688      34- 53 Per Hour(Glassdoor est.)     3.0   \n689      34- 53 Per Hour(Glassdoor est.)    -1.0   \n690      34- 53 Per Hour(Glassdoor est.)     3.8   \n691      34- 53 Per Hour(Glassdoor est.)     3.4   \n1295     10- 26 Per Hour(Glassdoor est.)     4.2   \n1296     10- 26 Per Hour(Glassdoor est.)     4.2   \n1297     10- 26 Per Hour(Glassdoor est.)     4.2   \n2124     17- 27 Per Hour(Glassdoor est.)     3.7   \n2125     17- 27 Per Hour(Glassdoor est.)     4.0   \n2126     17- 27 Per Hour(Glassdoor est.)     4.2   \n2127     17- 27 Per Hour(Glassdoor est.)     3.8   \n2128     17- 27 Per Hour(Glassdoor est.)     4.0   \n2129     17- 27 Per Hour(Glassdoor est.)     3.3   \n2130     17- 27 Per Hour(Glassdoor est.)     2.2   \n2131     17- 27 Per Hour(Glassdoor est.)    -1.0   \n2132     17- 27 Per Hour(Glassdoor est.)     3.5   \n2133     17- 27 Per Hour(Glassdoor est.)    -1.0   \n2134     17- 27 Per Hour(Glassdoor est.)     3.6   \n3986   25 -  41 Per Hour(Glassdoor est.)     3.6   \n4034   11 -  19 Per Hour(Glassdoor est.)     3.1   \n5369   53 -  90 Per Hour(Glassdoor est.)     3.7   \n5618   17 -  24 Per Hour(Glassdoor est.)     3.7   \n5891                   65 -  72 Per Hour     3.7   \n\n                                           Company Name              Location  \\\n685                        UC Davis Medical Center\\n3.8       Los Angeles, CA   \n686   SAG-AFTRA Health Plan and SAG-Producers Pensio...           Burbank, CA   \n687                                      Galvanize Inc.       Los Angeles, CA   \n688                                AHMC Healthcare\\n3.0     Monterey Park, CA   \n689                                   BlackLine Systems    Woodland Hills, CA   \n690                                 LetsGetChecked\\n3.8          Monrovia, CA   \n691                                        Covance\\n3.4       Los Angeles, CA   \n1295                                Varsity Tutors\\n4.2          Stafford, TX   \n1296                                Varsity Tutors\\n4.2            Spring, TX   \n1297                                Varsity Tutors\\n4.2        Sugar Land, TX   \n2124                      University Health System\\n3.7       San Antonio, TX   \n2125                                           LMI\\n4.0       San Antonio, TX   \n2126                                U.S. Air Force\\n4.2      Lackland AFB, TX   \n2127                                 Spectrum Comm\\n3.8      Lackland AFB, TX   \n2128                                    BB&E, Inc.\\n4.0       San Antonio, TX   \n2129                          CDO Technologies Inc\\n3.3       San Antonio, TX   \n2130                              BioBridge Global\\n2.2       San Antonio, TX   \n2131                                   Cherokee Federal  Fort Sam Houston, TX   \n2132       General Dynamics Information Technology\\n3.5  Fort Sam Houston, TX   \n2133                                      KCI Licensing       San Antonio, TX   \n2134                                        Humana\\n3.6       San Antonio, TX   \n3986                              Adventist Health\\n3.6              Lodi, CA   \n4034                             AG Globe Services\\n3.1            Fresno, CA   \n5369                    Celldex Therapeutics, Inc.\\n3.7           Hampton, NJ   \n5618                                  Mercy Health\\n3.7        Youngstown, OH   \n5891                                        Epitec\\n3.7         Wisconsin, WI   \n\n                         Size Founded               Type of ownership  \\\n685          10000+ employees      -1          Nonprofit Organization   \n686                   Unknown      -1               Company - Private   \n687       51 to 200 employees      -1               Company - Private   \n688   5001 to 10000 employees    1998               Company - Private   \n689         1 to 50 employees      -1                         Unknown   \n690       51 to 200 employees    2015               Company - Private   \n691          10000+ employees    1996                Company - Public   \n1295     201 to 500 employees    2007               Company - Private   \n1296     201 to 500 employees    2007               Company - Private   \n1297     201 to 500 employees    2007               Company - Private   \n2124   1001 to 5000 employees    1955          Nonprofit Organization   \n2125   1001 to 5000 employees    1961          Nonprofit Organization   \n2126         10000+ employees    1947                      Government   \n2127      51 to 200 employees    1999               Company - Private   \n2128         10000+ employees      -1                Company - Public   \n2129     201 to 500 employees    1995               Company - Private   \n2130    501 to 1000 employees    2013          Nonprofit Organization   \n2131        1 to 50 employees      -1          Nonprofit Organization   \n2132         10000+ employees    1996  Subsidiary or Business Segment   \n2133   1001 to 5000 employees      -1               Company - Private   \n2134         10000+ employees    1961                Company - Public   \n3986         10000+ Employees    1973          Nonprofit Organization   \n4034      51 to 200 Employees    2015               Company - Private   \n5369                       -1      -1                              -1   \n5618         10000+ Employees    1973                        Hospital   \n5891   1001 to 5000 Employees    1978               Company - Private   \n\n                              Industry                              Sector  \\\n685   Health Care Services & Hospitals                         Health Care   \n686                                 -1                                  -1   \n687                       Construction  Construction, Repair & Maintenance   \n688   Health Care Services & Hospitals                         Health Care   \n689                                 -1                                  -1   \n690   Health Care Services & Hospitals                         Health Care   \n691          Biotech & Pharmaceuticals           Biotech & Pharmaceuticals   \n1295                          Internet              Information Technology   \n1296                          Internet              Information Technology   \n1297                          Internet              Information Technology   \n2124  Health Care Services & Hospitals                         Health Care   \n2125                        Consulting                   Business Services   \n2126                  Federal Agencies                          Government   \n2127               Aerospace & Defense                 Aerospace & Defense   \n2128             Banks & Credit Unions                             Finance   \n2129      Computer Hardware & Software              Information Technology   \n2130         Biotech & Pharmaceuticals           Biotech & Pharmaceuticals   \n2131             Banks & Credit Unions                             Finance   \n2132                       IT Services              Information Technology   \n2133                                -1                                  -1   \n2134                Insurance Carriers                           Insurance   \n3986  Health Care Services & Hospitals                         Health Care   \n4034            Staffing & Outsourcing                   Business Services   \n5369                                -1                                  -1   \n5618  Health Care Services & Hospitals                         Health Care   \n5891            Staffing & Outsourcing                   Business Services   \n\n                         Revenue  \n685       $2 to $5 billion (USD)  \n686     Unknown / Non-Applicable  \n687     Unknown / Non-Applicable  \n688       $1 to $2 billion (USD)  \n689     Unknown / Non-Applicable  \n690     Unknown / Non-Applicable  \n691     $10 to $25 million (USD)  \n1295    Unknown / Non-Applicable  \n1296    Unknown / Non-Applicable  \n1297    Unknown / Non-Applicable  \n2124  $100 to $500 million (USD)  \n2125  $100 to $500 million (USD)  \n2126          $10+ billion (USD)  \n2127    $25 to $50 million (USD)  \n2128          $10+ billion (USD)  \n2129   $50 to $100 million (USD)  \n2130      $1 to $5 million (USD)  \n2131    Unknown / Non-Applicable  \n2132          $10+ billion (USD)  \n2133    Unknown / Non-Applicable  \n2134          $10+ billion (USD)  \n3986    Unknown / Non-Applicable  \n4034    Unknown / Non-Applicable  \n5369                          -1  \n5618     $5 to $10 billion (USD)  \n5891  $100 to $500 million (USD)  ",
      "text/html": "<div>\n<style scoped>\n    .dataframe tbody tr th:only-of-type {\n        vertical-align: middle;\n    }\n\n    .dataframe tbody tr th {\n        vertical-align: top;\n    }\n\n    .dataframe thead th {\n        text-align: right;\n    }\n</style>\n<table border=\"1\" class=\"dataframe\">\n  <thead>\n    <tr style=\"text-align: right;\">\n      <th></th>\n      <th>Job Title</th>\n      <th>Salary Estimate</th>\n      <th>Rating</th>\n      <th>Company Name</th>\n      <th>Location</th>\n      <th>Size</th>\n      <th>Founded</th>\n      <th>Type of ownership</th>\n      <th>Industry</th>\n      <th>Sector</th>\n      <th>Revenue</th>\n    </tr>\n  </thead>\n  <tbody>\n    <tr>\n      <th>685</th>\n      <td>Clinical Laboratory Scientist, Per Diem</td>\n      <td>34- 53 Per Hour(Glassdoor est.)</td>\n      <td>3.8</td>\n      <td>UC Davis Medical Center\\n3.8</td>\n      <td>Los Angeles, CA</td>\n      <td>10000+ employees</td>\n      <td>-1</td>\n      <td>Nonprofit Organization</td>\n      <td>Health Care Services &amp; Hospitals</td>\n      <td>Health Care</td>\n      <td>$2 to $5 billion (USD)</td>\n    </tr>\n    <tr>\n      <th>686</th>\n      <td>Sr. Data Analyst</td>\n      <td>34- 53 Per Hour(Glassdoor est.)</td>\n      <td>2.8</td>\n      <td>SAG-AFTRA Health Plan and SAG-Producers Pensio...</td>\n      <td>Burbank, CA</td>\n      <td>Unknown</td>\n      <td>-1</td>\n      <td>Company - Private</td>\n      <td>-1</td>\n      <td>-1</td>\n      <td>Unknown / Non-Applicable</td>\n    </tr>\n    <tr>\n      <th>687</th>\n      <td>Lead Data Science Instructor, Data Scientist</td>\n      <td>34- 53 Per Hour(Glassdoor est.)</td>\n      <td>-1.0</td>\n      <td>Galvanize Inc.</td>\n      <td>Los Angeles, CA</td>\n      <td>51 to 200 employees</td>\n      <td>-1</td>\n      <td>Company - Private</td>\n      <td>Construction</td>\n      <td>Construction, Repair &amp; Maintenance</td>\n      <td>Unknown / Non-Applicable</td>\n    </tr>\n    <tr>\n      <th>688</th>\n      <td>Clinical Laboratory Scientist (Per Diem, Varia...</td>\n      <td>34- 53 Per Hour(Glassdoor est.)</td>\n      <td>3.0</td>\n      <td>AHMC Healthcare\\n3.0</td>\n      <td>Monterey Park, CA</td>\n      <td>5001 to 10000 employees</td>\n      <td>1998</td>\n      <td>Company - Private</td>\n      <td>Health Care Services &amp; Hospitals</td>\n      <td>Health Care</td>\n      <td>$1 to $2 billion (USD)</td>\n    </tr>\n    <tr>\n      <th>689</th>\n      <td>Data Engineer</td>\n      <td>34- 53 Per Hour(Glassdoor est.)</td>\n      <td>-1.0</td>\n      <td>BlackLine Systems</td>\n      <td>Woodland Hills, CA</td>\n      <td>1 to 50 employees</td>\n      <td>-1</td>\n      <td>Unknown</td>\n      <td>-1</td>\n      <td>-1</td>\n      <td>Unknown / Non-Applicable</td>\n    </tr>\n    <tr>\n      <th>690</th>\n      <td>Clinical Laboratory Scientist - Generalist</td>\n      <td>34- 53 Per Hour(Glassdoor est.)</td>\n      <td>3.8</td>\n      <td>LetsGetChecked\\n3.8</td>\n      <td>Monrovia, CA</td>\n      <td>51 to 200 employees</td>\n      <td>2015</td>\n      <td>Company - Private</td>\n      <td>Health Care Services &amp; Hospitals</td>\n      <td>Health Care</td>\n      <td>Unknown / Non-Applicable</td>\n    </tr>\n    <tr>\n      <th>691</th>\n      <td>Clinical Laboratory Scientist , Med Tech</td>\n      <td>34- 53 Per Hour(Glassdoor est.)</td>\n      <td>3.4</td>\n      <td>Covance\\n3.4</td>\n      <td>Los Angeles, CA</td>\n      <td>10000+ employees</td>\n      <td>1996</td>\n      <td>Company - Public</td>\n      <td>Biotech &amp; Pharmaceuticals</td>\n      <td>Biotech &amp; Pharmaceuticals</td>\n      <td>$10 to $25 million (USD)</td>\n    </tr>\n    <tr>\n      <th>1295</th>\n      <td>Stafford Data Science Tutor Jobs</td>\n      <td>10- 26 Per Hour(Glassdoor est.)</td>\n      <td>4.2</td>\n      <td>Varsity Tutors\\n4.2</td>\n      <td>Stafford, TX</td>\n      <td>201 to 500 employees</td>\n      <td>2007</td>\n      <td>Company - Private</td>\n      <td>Internet</td>\n      <td>Information Technology</td>\n      <td>Unknown / Non-Applicable</td>\n    </tr>\n    <tr>\n      <th>1296</th>\n      <td>Spring Data Science Tutor Jobs</td>\n      <td>10- 26 Per Hour(Glassdoor est.)</td>\n      <td>4.2</td>\n      <td>Varsity Tutors\\n4.2</td>\n      <td>Spring, TX</td>\n      <td>201 to 500 employees</td>\n      <td>2007</td>\n      <td>Company - Private</td>\n      <td>Internet</td>\n      <td>Information Technology</td>\n      <td>Unknown / Non-Applicable</td>\n    </tr>\n    <tr>\n      <th>1297</th>\n      <td>Sugar Land Data Science Tutor Jobs</td>\n      <td>10- 26 Per Hour(Glassdoor est.)</td>\n      <td>4.2</td>\n      <td>Varsity Tutors\\n4.2</td>\n      <td>Sugar Land, TX</td>\n      <td>201 to 500 employees</td>\n      <td>2007</td>\n      <td>Company - Private</td>\n      <td>Internet</td>\n      <td>Information Technology</td>\n      <td>Unknown / Non-Applicable</td>\n    </tr>\n    <tr>\n      <th>2124</th>\n      <td>Laboratory Scientist II</td>\n      <td>17- 27 Per Hour(Glassdoor est.)</td>\n      <td>3.7</td>\n      <td>University Health System\\n3.7</td>\n      <td>San Antonio, TX</td>\n      <td>1001 to 5000 employees</td>\n      <td>1955</td>\n      <td>Nonprofit Organization</td>\n      <td>Health Care Services &amp; Hospitals</td>\n      <td>Health Care</td>\n      <td>$100 to $500 million (USD)</td>\n    </tr>\n    <tr>\n      <th>2125</th>\n      <td>Data Engineer - Top Secret w/ SCI Eligibility</td>\n      <td>17- 27 Per Hour(Glassdoor est.)</td>\n      <td>4.0</td>\n      <td>LMI\\n4.0</td>\n      <td>San Antonio, TX</td>\n      <td>1001 to 5000 employees</td>\n      <td>1961</td>\n      <td>Nonprofit Organization</td>\n      <td>Consulting</td>\n      <td>Business Services</td>\n      <td>$100 to $500 million (USD)</td>\n    </tr>\n    <tr>\n      <th>2126</th>\n      <td>Biological Scientist</td>\n      <td>17- 27 Per Hour(Glassdoor est.)</td>\n      <td>4.2</td>\n      <td>U.S. Air Force\\n4.2</td>\n      <td>Lackland AFB, TX</td>\n      <td>10000+ employees</td>\n      <td>1947</td>\n      <td>Government</td>\n      <td>Federal Agencies</td>\n      <td>Government</td>\n      <td>$10+ billion (USD)</td>\n    </tr>\n    <tr>\n      <th>2127</th>\n      <td>TECHNICAL DATA ANALYST</td>\n      <td>17- 27 Per Hour(Glassdoor est.)</td>\n      <td>3.8</td>\n      <td>Spectrum Comm\\n3.8</td>\n      <td>Lackland AFB, TX</td>\n      <td>51 to 200 employees</td>\n      <td>1999</td>\n      <td>Company - Private</td>\n      <td>Aerospace &amp; Defense</td>\n      <td>Aerospace &amp; Defense</td>\n      <td>$25 to $50 million (USD)</td>\n    </tr>\n    <tr>\n      <th>2128</th>\n      <td>Environmental Scientist/Engineer</td>\n      <td>17- 27 Per Hour(Glassdoor est.)</td>\n      <td>4.0</td>\n      <td>BB&amp;E, Inc.\\n4.0</td>\n      <td>San Antonio, TX</td>\n      <td>10000+ employees</td>\n      <td>-1</td>\n      <td>Company - Public</td>\n      <td>Banks &amp; Credit Unions</td>\n      <td>Finance</td>\n      <td>$10+ billion (USD)</td>\n    </tr>\n    <tr>\n      <th>2129</th>\n      <td>Data Analyst with Security Clearance</td>\n      <td>17- 27 Per Hour(Glassdoor est.)</td>\n      <td>3.3</td>\n      <td>CDO Technologies Inc\\n3.3</td>\n      <td>San Antonio, TX</td>\n      <td>201 to 500 employees</td>\n      <td>1995</td>\n      <td>Company - Private</td>\n      <td>Computer Hardware &amp; Software</td>\n      <td>Information Technology</td>\n      <td>$50 to $100 million (USD)</td>\n    </tr>\n    <tr>\n      <th>2130</th>\n      <td>Associate Scientist, Process Development &amp; Man...</td>\n      <td>17- 27 Per Hour(Glassdoor est.)</td>\n      <td>2.2</td>\n      <td>BioBridge Global\\n2.2</td>\n      <td>San Antonio, TX</td>\n      <td>501 to 1000 employees</td>\n      <td>2013</td>\n      <td>Nonprofit Organization</td>\n      <td>Biotech &amp; Pharmaceuticals</td>\n      <td>Biotech &amp; Pharmaceuticals</td>\n      <td>$1 to $5 million (USD)</td>\n    </tr>\n    <tr>\n      <th>2131</th>\n      <td>Configuration Data Analyst, San Antonio, TX, U...</td>\n      <td>17- 27 Per Hour(Glassdoor est.)</td>\n      <td>-1.0</td>\n      <td>Cherokee Federal</td>\n      <td>Fort Sam Houston, TX</td>\n      <td>1 to 50 employees</td>\n      <td>-1</td>\n      <td>Nonprofit Organization</td>\n      <td>Banks &amp; Credit Unions</td>\n      <td>Finance</td>\n      <td>Unknown / Non-Applicable</td>\n    </tr>\n    <tr>\n      <th>2132</th>\n      <td>Research Scientist III</td>\n      <td>17- 27 Per Hour(Glassdoor est.)</td>\n      <td>3.5</td>\n      <td>General Dynamics Information Technology\\n3.5</td>\n      <td>Fort Sam Houston, TX</td>\n      <td>10000+ employees</td>\n      <td>1996</td>\n      <td>Subsidiary or Business Segment</td>\n      <td>IT Services</td>\n      <td>Information Technology</td>\n      <td>$10+ billion (USD)</td>\n    </tr>\n    <tr>\n      <th>2133</th>\n      <td>Senior Data Engineer</td>\n      <td>17- 27 Per Hour(Glassdoor est.)</td>\n      <td>-1.0</td>\n      <td>KCI Licensing</td>\n      <td>San Antonio, TX</td>\n      <td>1001 to 5000 employees</td>\n      <td>-1</td>\n      <td>Company - Private</td>\n      <td>-1</td>\n      <td>-1</td>\n      <td>Unknown / Non-Applicable</td>\n    </tr>\n    <tr>\n      <th>2134</th>\n      <td>Lead of Cybersecurity Data Protection &amp; Analytics</td>\n      <td>17- 27 Per Hour(Glassdoor est.)</td>\n      <td>3.6</td>\n      <td>Humana\\n3.6</td>\n      <td>San Antonio, TX</td>\n      <td>10000+ employees</td>\n      <td>1961</td>\n      <td>Company - Public</td>\n      <td>Insurance Carriers</td>\n      <td>Insurance</td>\n      <td>$10+ billion (USD)</td>\n    </tr>\n    <tr>\n      <th>3986</th>\n      <td>Clinical Laboratory Scientist, Full Time, Even...</td>\n      <td>25 -  41 Per Hour(Glassdoor est.)</td>\n      <td>3.6</td>\n      <td>Adventist Health\\n3.6</td>\n      <td>Lodi, CA</td>\n      <td>10000+ Employees</td>\n      <td>1973</td>\n      <td>Nonprofit Organization</td>\n      <td>Health Care Services &amp; Hospitals</td>\n      <td>Health Care</td>\n      <td>Unknown / Non-Applicable</td>\n    </tr>\n    <tr>\n      <th>4034</th>\n      <td>Clinical Lab Scientist</td>\n      <td>11 -  19 Per Hour(Glassdoor est.)</td>\n      <td>3.1</td>\n      <td>AG Globe Services\\n3.1</td>\n      <td>Fresno, CA</td>\n      <td>51 to 200 Employees</td>\n      <td>2015</td>\n      <td>Company - Private</td>\n      <td>Staffing &amp; Outsourcing</td>\n      <td>Business Services</td>\n      <td>Unknown / Non-Applicable</td>\n    </tr>\n    <tr>\n      <th>5369</th>\n      <td>Senior Clinical Scientist/Director, Clinical S...</td>\n      <td>53 -  90 Per Hour(Glassdoor est.)</td>\n      <td>3.7</td>\n      <td>Celldex Therapeutics, Inc.\\n3.7</td>\n      <td>Hampton, NJ</td>\n      <td>-1</td>\n      <td>-1</td>\n      <td>-1</td>\n      <td>-1</td>\n      <td>-1</td>\n      <td>-1</td>\n    </tr>\n    <tr>\n      <th>5618</th>\n      <td>Medical Lab Scientist (MLS) Mercy Health St. E...</td>\n      <td>17 -  24 Per Hour(Glassdoor est.)</td>\n      <td>3.7</td>\n      <td>Mercy Health\\n3.7</td>\n      <td>Youngstown, OH</td>\n      <td>10000+ Employees</td>\n      <td>1973</td>\n      <td>Hospital</td>\n      <td>Health Care Services &amp; Hospitals</td>\n      <td>Health Care</td>\n      <td>$5 to $10 billion (USD)</td>\n    </tr>\n    <tr>\n      <th>5891</th>\n      <td>Data Scientist/ Full Stack Developer</td>\n      <td>65 -  72 Per Hour</td>\n      <td>3.7</td>\n      <td>Epitec\\n3.7</td>\n      <td>Wisconsin, WI</td>\n      <td>1001 to 5000 Employees</td>\n      <td>1978</td>\n      <td>Company - Private</td>\n      <td>Staffing &amp; Outsourcing</td>\n      <td>Business Services</td>\n      <td>$100 to $500 million (USD)</td>\n    </tr>\n  </tbody>\n</table>\n</div>"
     },
     "execution_count": 8,
     "metadata": {},
     "output_type": "execute_result"
    }
   ],
   "source": [
    "df[df['Salary Estimate'].str.contains(\"Per Hour\")]"
   ],
   "metadata": {
    "collapsed": false,
    "ExecuteTime": {
     "end_time": "2023-11-30T19:49:09.750906100Z",
     "start_time": "2023-11-30T19:49:09.581079700Z"
    }
   },
   "id": "c0e2f902a9279f38"
  },
  {
   "cell_type": "code",
   "execution_count": 9,
   "outputs": [],
   "source": [
    "df = df[~df['Salary Estimate'].str.contains(\"Per Hour\")]"
   ],
   "metadata": {
    "collapsed": false,
    "ExecuteTime": {
     "end_time": "2023-11-30T19:49:09.750906100Z",
     "start_time": "2023-11-30T19:49:09.581589300Z"
    }
   },
   "id": "f0ba1785742ddca"
  },
  {
   "cell_type": "code",
   "execution_count": 10,
   "outputs": [
    {
     "data": {
      "text/plain": "' 111 - 181  (Glassdoor est.)'"
     },
     "execution_count": 10,
     "metadata": {},
     "output_type": "execute_result"
    }
   ],
   "source": [
    "df['Salary Estimate'][0]"
   ],
   "metadata": {
    "collapsed": false,
    "ExecuteTime": {
     "end_time": "2023-11-30T19:49:09.766819Z",
     "start_time": "2023-11-30T19:49:09.590479400Z"
    }
   },
   "id": "6ea851498c04d475"
  },
  {
   "cell_type": "code",
   "execution_count": 11,
   "outputs": [
    {
     "data": {
      "text/plain": "['111', '-', '181', '(Glassdoor', 'est.)']"
     },
     "execution_count": 11,
     "metadata": {},
     "output_type": "execute_result"
    }
   ],
   "source": [
    "df['Salary Estimate'][0].split()"
   ],
   "metadata": {
    "collapsed": false,
    "ExecuteTime": {
     "end_time": "2023-11-30T19:49:09.766819Z",
     "start_time": "2023-11-30T19:49:09.597723100Z"
    }
   },
   "id": "495cf1884f27bce7"
  },
  {
   "cell_type": "code",
   "execution_count": 12,
   "outputs": [
    {
     "name": "stdout",
     "output_type": "stream",
     "text": [
      "111\n",
      "181\n"
     ]
    }
   ],
   "source": [
    "salary_array = df['Salary Estimate'][0].split()\n",
    "min = salary_array[0]\n",
    "max = salary_array[2]\n",
    "print(min)\n",
    "print(max)"
   ],
   "metadata": {
    "collapsed": false,
    "ExecuteTime": {
     "end_time": "2023-11-30T19:49:09.766819Z",
     "start_time": "2023-11-30T19:49:09.604257300Z"
    }
   },
   "id": "826ee073e196de78"
  },
  {
   "cell_type": "code",
   "execution_count": 13,
   "outputs": [
    {
     "data": {
      "text/plain": "0       111\n1       111\n2       111\n3       111\n4       111\n       ... \n5881     38\n5882     47\n5883     66\n5886     67\n5887     42\nName: Salary Estimate, Length: 5500, dtype: object"
     },
     "execution_count": 13,
     "metadata": {},
     "output_type": "execute_result"
    }
   ],
   "source": [
    "def get_min(value1):\n",
    "    array = value1.split()\n",
    "    return array[0]\n",
    "\n",
    "\n",
    "df['Salary Estimate'].apply(get_min)\n"
   ],
   "metadata": {
    "collapsed": false,
    "ExecuteTime": {
     "end_time": "2023-11-30T19:49:09.766819Z",
     "start_time": "2023-11-30T19:49:09.617786200Z"
    }
   },
   "id": "28d398d3d18045c9"
  },
  {
   "cell_type": "code",
   "execution_count": 14,
   "outputs": [
    {
     "data": {
      "text/plain": "0       181\n1       181\n2       181\n3       181\n4       181\n       ... \n5881     64\n5882     89\n5883    113\n5886    111\n5887     76\nName: Salary Estimate, Length: 5500, dtype: object"
     },
     "execution_count": 14,
     "metadata": {},
     "output_type": "execute_result"
    }
   ],
   "source": [
    "def get_max(value1):\n",
    "    array = value1.split()\n",
    "    return array[2]\n",
    "\n",
    "\n",
    "df['Salary Estimate'].apply(get_max)"
   ],
   "metadata": {
    "collapsed": false,
    "ExecuteTime": {
     "end_time": "2023-11-30T19:49:09.766819Z",
     "start_time": "2023-11-30T19:49:09.622581200Z"
    }
   },
   "id": "4696f3583bdfd3ac"
  },
  {
   "cell_type": "code",
   "execution_count": 15,
   "outputs": [],
   "source": [
    "min_array = df['Salary Estimate'].apply(get_min)\n",
    "max_array = df['Salary Estimate'].apply(get_max)"
   ],
   "metadata": {
    "collapsed": false,
    "ExecuteTime": {
     "end_time": "2023-11-30T19:50:00.328981Z",
     "start_time": "2023-11-30T19:50:00.317115400Z"
    }
   },
   "id": "c6f7ea351f0ff7b8"
  },
  {
   "cell_type": "code",
   "execution_count": 16,
   "outputs": [],
   "source": [
    "df.insert(loc=1, column='Min Salary', value=min_array)\n",
    "df.insert(loc=2, column='Max Salary', value=max_array)"
   ],
   "metadata": {
    "collapsed": false,
    "ExecuteTime": {
     "end_time": "2023-11-30T19:50:45.721519700Z",
     "start_time": "2023-11-30T19:50:45.720524200Z"
    }
   },
   "id": "5d71c6590b5f3db5"
  },
  {
   "cell_type": "code",
   "execution_count": 17,
   "outputs": [
    {
     "data": {
      "text/plain": "                                              Job Title Min Salary Max Salary  \\\n0                                 Senior Data Scientist        111        181   \n1                     Data Scientist, Product Analytics        111        181   \n2                                  Data Science Manager        111        181   \n3                                          Data Analyst        111        181   \n4                                Director, Data Science        111        181   \n...                                                 ...        ...        ...   \n5881                              Information Scientist         38         64   \n5882              Supervisory Research Health Scientist         47         89   \n5883                  Senior SAS Programmer (Scientist)         66        113   \n5886  Senior Data Analyst - Product Analytics (open ...         67        111   \n5887                Manufacturing Data Analyst Engineer         42         76   \n\n                    Salary Estimate  Rating  \\\n0       111 - 181  (Glassdoor est.)     3.5   \n1       111 - 181  (Glassdoor est.)     4.5   \n2       111 - 181  (Glassdoor est.)    -1.0   \n3       111 - 181  (Glassdoor est.)     3.4   \n4       111 - 181  (Glassdoor est.)     3.4   \n...                             ...     ...   \n5881    38  -  64  (Glassdoor est.)     3.2   \n5882    47  -  89  (Glassdoor est.)     4.2   \n5883   66  -  113  (Glassdoor est.)     4.0   \n5886   67  -  111  (Glassdoor est.)     4.0   \n5887    42  -  76  (Glassdoor est.)     3.6   \n\n                                         Company Name        Location  \\\n0                                         Hopper\\n3.5    New York, NY   \n1                                        Noom US\\n4.5    New York, NY   \n2                                            Decode_M    New York, NY   \n3                               Sapphire Digital\\n3.4   Lyndhurst, NJ   \n4                     United Entertainment Group\\n3.4    New York, NY   \n...                                               ...             ...   \n5881                                         CAS\\n3.2    Columbus, OH   \n5882  Centers for Disease Control and Prevention\\n4.2  Cincinnati, OH   \n5883                                     Certara\\n4.0  Cincinnati, OH   \n5886                                   New Relic\\n4.0  Cincinnati, OH   \n5887                                 Hose Master\\n3.6      Euclid, OH   \n\n                        Size Founded               Type of ownership  \\\n0      501 to 1000 employees    2007               Company - Private   \n1     1001 to 5000 employees    2008               Company - Private   \n2          1 to 50 employees      -1                         Unknown   \n3       201 to 500 employees    2019               Company - Private   \n4        51 to 200 employees    2007               Company - Private   \n...                      ...     ...                             ...   \n5881  1001 to 5000 Employees    1907  Subsidiary or Business Segment   \n5882        10000+ Employees    1946                      Government   \n5883   501 to 1000 Employees    2008                Company - Public   \n5886  1001 to 5000 Employees    2008                Company - Public   \n5887    201 to 500 Employees    1982               Company - Private   \n\n                                     Industry                     Sector  \\\n0                             Travel Agencies           Travel & Tourism   \n1                   Health, Beauty, & Fitness          Consumer Services   \n2                                          -1                         -1   \n3                                    Internet     Information Technology   \n4                     Advertising & Marketing          Business Services   \n...                                       ...                        ...   \n5881  Enterprise Software & Network Solutions     Information Technology   \n5882                         Federal Agencies                 Government   \n5883                Biotech & Pharmaceuticals  Biotech & Pharmaceuticals   \n5886             Computer Hardware & Software     Information Technology   \n5887    Electrical & Electronic Manufacturing              Manufacturing   \n\n                         Revenue  \n0       Unknown / Non-Applicable  \n1       Unknown / Non-Applicable  \n2       Unknown / Non-Applicable  \n3       Unknown / Non-Applicable  \n4       Unknown / Non-Applicable  \n...                          ...  \n5881  $100 to $500 million (USD)  \n5882    Unknown / Non-Applicable  \n5883    Unknown / Non-Applicable  \n5886  $100 to $500 million (USD)  \n5887    Unknown / Non-Applicable  \n\n[5500 rows x 13 columns]",
      "text/html": "<div>\n<style scoped>\n    .dataframe tbody tr th:only-of-type {\n        vertical-align: middle;\n    }\n\n    .dataframe tbody tr th {\n        vertical-align: top;\n    }\n\n    .dataframe thead th {\n        text-align: right;\n    }\n</style>\n<table border=\"1\" class=\"dataframe\">\n  <thead>\n    <tr style=\"text-align: right;\">\n      <th></th>\n      <th>Job Title</th>\n      <th>Min Salary</th>\n      <th>Max Salary</th>\n      <th>Salary Estimate</th>\n      <th>Rating</th>\n      <th>Company Name</th>\n      <th>Location</th>\n      <th>Size</th>\n      <th>Founded</th>\n      <th>Type of ownership</th>\n      <th>Industry</th>\n      <th>Sector</th>\n      <th>Revenue</th>\n    </tr>\n  </thead>\n  <tbody>\n    <tr>\n      <th>0</th>\n      <td>Senior Data Scientist</td>\n      <td>111</td>\n      <td>181</td>\n      <td>111 - 181  (Glassdoor est.)</td>\n      <td>3.5</td>\n      <td>Hopper\\n3.5</td>\n      <td>New York, NY</td>\n      <td>501 to 1000 employees</td>\n      <td>2007</td>\n      <td>Company - Private</td>\n      <td>Travel Agencies</td>\n      <td>Travel &amp; Tourism</td>\n      <td>Unknown / Non-Applicable</td>\n    </tr>\n    <tr>\n      <th>1</th>\n      <td>Data Scientist, Product Analytics</td>\n      <td>111</td>\n      <td>181</td>\n      <td>111 - 181  (Glassdoor est.)</td>\n      <td>4.5</td>\n      <td>Noom US\\n4.5</td>\n      <td>New York, NY</td>\n      <td>1001 to 5000 employees</td>\n      <td>2008</td>\n      <td>Company - Private</td>\n      <td>Health, Beauty, &amp; Fitness</td>\n      <td>Consumer Services</td>\n      <td>Unknown / Non-Applicable</td>\n    </tr>\n    <tr>\n      <th>2</th>\n      <td>Data Science Manager</td>\n      <td>111</td>\n      <td>181</td>\n      <td>111 - 181  (Glassdoor est.)</td>\n      <td>-1.0</td>\n      <td>Decode_M</td>\n      <td>New York, NY</td>\n      <td>1 to 50 employees</td>\n      <td>-1</td>\n      <td>Unknown</td>\n      <td>-1</td>\n      <td>-1</td>\n      <td>Unknown / Non-Applicable</td>\n    </tr>\n    <tr>\n      <th>3</th>\n      <td>Data Analyst</td>\n      <td>111</td>\n      <td>181</td>\n      <td>111 - 181  (Glassdoor est.)</td>\n      <td>3.4</td>\n      <td>Sapphire Digital\\n3.4</td>\n      <td>Lyndhurst, NJ</td>\n      <td>201 to 500 employees</td>\n      <td>2019</td>\n      <td>Company - Private</td>\n      <td>Internet</td>\n      <td>Information Technology</td>\n      <td>Unknown / Non-Applicable</td>\n    </tr>\n    <tr>\n      <th>4</th>\n      <td>Director, Data Science</td>\n      <td>111</td>\n      <td>181</td>\n      <td>111 - 181  (Glassdoor est.)</td>\n      <td>3.4</td>\n      <td>United Entertainment Group\\n3.4</td>\n      <td>New York, NY</td>\n      <td>51 to 200 employees</td>\n      <td>2007</td>\n      <td>Company - Private</td>\n      <td>Advertising &amp; Marketing</td>\n      <td>Business Services</td>\n      <td>Unknown / Non-Applicable</td>\n    </tr>\n    <tr>\n      <th>...</th>\n      <td>...</td>\n      <td>...</td>\n      <td>...</td>\n      <td>...</td>\n      <td>...</td>\n      <td>...</td>\n      <td>...</td>\n      <td>...</td>\n      <td>...</td>\n      <td>...</td>\n      <td>...</td>\n      <td>...</td>\n      <td>...</td>\n    </tr>\n    <tr>\n      <th>5881</th>\n      <td>Information Scientist</td>\n      <td>38</td>\n      <td>64</td>\n      <td>38  -  64  (Glassdoor est.)</td>\n      <td>3.2</td>\n      <td>CAS\\n3.2</td>\n      <td>Columbus, OH</td>\n      <td>1001 to 5000 Employees</td>\n      <td>1907</td>\n      <td>Subsidiary or Business Segment</td>\n      <td>Enterprise Software &amp; Network Solutions</td>\n      <td>Information Technology</td>\n      <td>$100 to $500 million (USD)</td>\n    </tr>\n    <tr>\n      <th>5882</th>\n      <td>Supervisory Research Health Scientist</td>\n      <td>47</td>\n      <td>89</td>\n      <td>47  -  89  (Glassdoor est.)</td>\n      <td>4.2</td>\n      <td>Centers for Disease Control and Prevention\\n4.2</td>\n      <td>Cincinnati, OH</td>\n      <td>10000+ Employees</td>\n      <td>1946</td>\n      <td>Government</td>\n      <td>Federal Agencies</td>\n      <td>Government</td>\n      <td>Unknown / Non-Applicable</td>\n    </tr>\n    <tr>\n      <th>5883</th>\n      <td>Senior SAS Programmer (Scientist)</td>\n      <td>66</td>\n      <td>113</td>\n      <td>66  -  113  (Glassdoor est.)</td>\n      <td>4.0</td>\n      <td>Certara\\n4.0</td>\n      <td>Cincinnati, OH</td>\n      <td>501 to 1000 Employees</td>\n      <td>2008</td>\n      <td>Company - Public</td>\n      <td>Biotech &amp; Pharmaceuticals</td>\n      <td>Biotech &amp; Pharmaceuticals</td>\n      <td>Unknown / Non-Applicable</td>\n    </tr>\n    <tr>\n      <th>5886</th>\n      <td>Senior Data Analyst - Product Analytics (open ...</td>\n      <td>67</td>\n      <td>111</td>\n      <td>67  -  111  (Glassdoor est.)</td>\n      <td>4.0</td>\n      <td>New Relic\\n4.0</td>\n      <td>Cincinnati, OH</td>\n      <td>1001 to 5000 Employees</td>\n      <td>2008</td>\n      <td>Company - Public</td>\n      <td>Computer Hardware &amp; Software</td>\n      <td>Information Technology</td>\n      <td>$100 to $500 million (USD)</td>\n    </tr>\n    <tr>\n      <th>5887</th>\n      <td>Manufacturing Data Analyst Engineer</td>\n      <td>42</td>\n      <td>76</td>\n      <td>42  -  76  (Glassdoor est.)</td>\n      <td>3.6</td>\n      <td>Hose Master\\n3.6</td>\n      <td>Euclid, OH</td>\n      <td>201 to 500 Employees</td>\n      <td>1982</td>\n      <td>Company - Private</td>\n      <td>Electrical &amp; Electronic Manufacturing</td>\n      <td>Manufacturing</td>\n      <td>Unknown / Non-Applicable</td>\n    </tr>\n  </tbody>\n</table>\n<p>5500 rows × 13 columns</p>\n</div>"
     },
     "execution_count": 17,
     "metadata": {},
     "output_type": "execute_result"
    }
   ],
   "source": [],
   "metadata": {
    "collapsed": false,
    "ExecuteTime": {
     "end_time": "2023-11-30T19:50:49.282160300Z",
     "start_time": "2023-11-30T19:50:49.261446900Z"
    }
   },
   "id": "a04ee9a304f73580"
  },
  {
   "cell_type": "code",
   "execution_count": 19,
   "outputs": [
    {
     "data": {
      "text/plain": "0         111 - 181  \n1         111 - 181  \n2         111 - 181  \n3         111 - 181  \n4         111 - 181  \n            ...      \n5881      38  -  64  \n5882      47  -  89  \n5883     66  -  113  \n5886     67  -  111  \n5887      42  -  76  \nName: Salary Estimate, Length: 5500, dtype: object"
     },
     "execution_count": 19,
     "metadata": {},
     "output_type": "execute_result"
    }
   ],
   "source": [
    "def RemoveGlassdoor(value):\n",
    "    return value.replace(\"(Glassdoor est.)\", \"\")\n",
    "\n",
    "\n",
    "df['Salary Estimate'].apply(RemoveGlassdoor)"
   ],
   "metadata": {
    "collapsed": false,
    "ExecuteTime": {
     "end_time": "2023-11-30T19:52:50.907483Z",
     "start_time": "2023-11-30T19:52:50.898398500Z"
    }
   },
   "id": "5ccf55fc05ab3ca3"
  },
  {
   "cell_type": "code",
   "execution_count": 20,
   "outputs": [],
   "source": [
    "df['Salary Estimate'] = df['Salary Estimate'].apply(RemoveGlassdoor)"
   ],
   "metadata": {
    "collapsed": false,
    "ExecuteTime": {
     "end_time": "2023-11-30T19:53:09.324645500Z",
     "start_time": "2023-11-30T19:53:09.309352600Z"
    }
   },
   "id": "2a3915f67137ac59"
  },
  {
   "cell_type": "code",
   "execution_count": 22,
   "outputs": [],
   "source": [
    "df['Min Salary'] = df['Min Salary'].apply(int)\n",
    "df['Max Salary'] = df['Max Salary'].apply(int)"
   ],
   "metadata": {
    "collapsed": false,
    "ExecuteTime": {
     "end_time": "2023-11-30T19:53:49.132802700Z",
     "start_time": "2023-11-30T19:53:49.111984300Z"
    }
   },
   "id": "6410c6d1e22f5cf0"
  },
  {
   "cell_type": "code",
   "execution_count": 23,
   "outputs": [
    {
     "name": "stdout",
     "output_type": "stream",
     "text": [
      "<class 'pandas.core.frame.DataFrame'>\n",
      "Index: 5500 entries, 0 to 5887\n",
      "Data columns (total 13 columns):\n",
      " #   Column             Non-Null Count  Dtype  \n",
      "---  ------             --------------  -----  \n",
      " 0   Job Title          5500 non-null   object \n",
      " 1   Min Salary         5500 non-null   int64  \n",
      " 2   Max Salary         5500 non-null   int64  \n",
      " 3   Salary Estimate    5500 non-null   object \n",
      " 4   Rating             5500 non-null   float64\n",
      " 5   Company Name       5500 non-null   object \n",
      " 6   Location           5500 non-null   object \n",
      " 7   Size               5500 non-null   object \n",
      " 8   Founded            5500 non-null   object \n",
      " 9   Type of ownership  5500 non-null   object \n",
      " 10  Industry           5500 non-null   object \n",
      " 11  Sector             5500 non-null   object \n",
      " 12  Revenue            5500 non-null   object \n",
      "dtypes: float64(1), int64(2), object(10)\n",
      "memory usage: 730.6+ KB\n"
     ]
    }
   ],
   "source": [
    "df.info()"
   ],
   "metadata": {
    "collapsed": false,
    "ExecuteTime": {
     "end_time": "2023-11-30T19:53:55.418780500Z",
     "start_time": "2023-11-30T19:53:55.399377100Z"
    }
   },
   "id": "6c422b3f9ec2ad41"
  },
  {
   "cell_type": "code",
   "execution_count": 24,
   "outputs": [
    {
     "name": "stdout",
     "output_type": "stream",
     "text": [
      "0       146.0\n",
      "1       146.0\n",
      "2       146.0\n",
      "3       146.0\n",
      "4       146.0\n",
      "        ...  \n",
      "5881     51.0\n",
      "5882     68.0\n",
      "5883     89.5\n",
      "5886     89.0\n",
      "5887     59.0\n",
      "Length: 5500, dtype: float64\n"
     ]
    }
   ],
   "source": [
    "average_array = (df['Min Salary'] + df['Max Salary']) / 2\n",
    "print(average_array)"
   ],
   "metadata": {
    "collapsed": false,
    "ExecuteTime": {
     "end_time": "2023-11-30T19:55:25.614047500Z",
     "start_time": "2023-11-30T19:55:25.614047500Z"
    }
   },
   "id": "7589c31ea29494af"
  },
  {
   "cell_type": "code",
   "execution_count": 25,
   "outputs": [],
   "source": [
    "df.insert(loc=4, column='Average Salary', value=average_array)"
   ],
   "metadata": {
    "collapsed": false,
    "ExecuteTime": {
     "end_time": "2023-11-30T19:56:07.986387300Z",
     "start_time": "2023-11-30T19:56:07.982345900Z"
    }
   },
   "id": "bc15fd4dc3aa5fa1"
  },
  {
   "cell_type": "code",
   "execution_count": 27,
   "outputs": [
    {
     "name": "stdout",
     "output_type": "stream",
     "text": [
      "<class 'pandas.core.frame.DataFrame'>\n",
      "Index: 5500 entries, 0 to 5887\n",
      "Data columns (total 14 columns):\n",
      " #   Column             Non-Null Count  Dtype  \n",
      "---  ------             --------------  -----  \n",
      " 0   Job Title          5500 non-null   object \n",
      " 1   Min Salary         5500 non-null   int64  \n",
      " 2   Max Salary         5500 non-null   int64  \n",
      " 3   Salary Estimate    5500 non-null   object \n",
      " 4   Average Salary     5500 non-null   float64\n",
      " 5   Rating             5500 non-null   float64\n",
      " 6   Company Name       5500 non-null   object \n",
      " 7   Location           5500 non-null   object \n",
      " 8   Size               5500 non-null   object \n",
      " 9   Founded            5500 non-null   object \n",
      " 10  Type of ownership  5500 non-null   object \n",
      " 11  Industry           5500 non-null   object \n",
      " 12  Sector             5500 non-null   object \n",
      " 13  Revenue            5500 non-null   object \n",
      "dtypes: float64(2), int64(2), object(10)\n",
      "memory usage: 773.6+ KB\n"
     ]
    }
   ],
   "source": [
    "df.info()"
   ],
   "metadata": {
    "collapsed": false,
    "ExecuteTime": {
     "end_time": "2023-11-30T19:56:22.201668700Z",
     "start_time": "2023-11-30T19:56:22.187491Z"
    }
   },
   "id": "744f3272a6c9b94"
  },
  {
   "cell_type": "code",
   "execution_count": 28,
   "outputs": [],
   "source": [
    "df = df[df['Rating'] > 0]"
   ],
   "metadata": {
    "collapsed": false,
    "ExecuteTime": {
     "end_time": "2023-11-30T19:56:45.292506300Z",
     "start_time": "2023-11-30T19:56:45.273894100Z"
    }
   },
   "id": "cd10cce0b95da94d"
  },
  {
   "cell_type": "code",
   "execution_count": 30,
   "outputs": [],
   "source": [
    "df = df[df['Founded'] != \"-1\"]"
   ],
   "metadata": {
    "collapsed": false,
    "ExecuteTime": {
     "end_time": "2023-11-30T19:57:45.487360900Z",
     "start_time": "2023-11-30T19:57:45.476483800Z"
    }
   },
   "id": "c8581cd3516b7d9a"
  },
  {
   "cell_type": "code",
   "execution_count": 31,
   "outputs": [],
   "source": [
    "df = df[df['Industry'] != \"-1\"]"
   ],
   "metadata": {
    "collapsed": false,
    "ExecuteTime": {
     "end_time": "2023-11-30T19:57:55.993193Z",
     "start_time": "2023-11-30T19:57:55.982450100Z"
    }
   },
   "id": "109c9ea150e21f47"
  },
  {
   "cell_type": "code",
   "execution_count": 32,
   "outputs": [],
   "source": [
    "df = df[df['Sector'] != \"-1\"]"
   ],
   "metadata": {
    "collapsed": false,
    "ExecuteTime": {
     "end_time": "2023-11-30T19:58:06.334487Z",
     "start_time": "2023-11-30T19:58:06.317594200Z"
    }
   },
   "id": "993593db48374c73"
  },
  {
   "cell_type": "code",
   "execution_count": 34,
   "outputs": [
    {
     "data": {
      "text/plain": "Location\nAustin, TX           259\nChicago, IL          257\nSan Diego, CA        228\nNew York, NY         226\nColumbus, OH         179\n                    ... \nLanham, MD             1\nSterling, VA           1\nTysons Corner, VA      1\nGaithersburg, MD       1\nEuclid, OH             1\nName: count, Length: 441, dtype: int64"
     },
     "execution_count": 34,
     "metadata": {},
     "output_type": "execute_result"
    }
   ],
   "source": [
    "df['Location'].value_counts()"
   ],
   "metadata": {
    "collapsed": false,
    "ExecuteTime": {
     "end_time": "2023-11-30T19:58:33.075381600Z",
     "start_time": "2023-11-30T19:58:33.043770500Z"
    }
   },
   "id": "8156a044cce7d2ac"
  },
  {
   "cell_type": "code",
   "execution_count": 36,
   "outputs": [
    {
     "data": {
      "text/plain": "'NY'"
     },
     "execution_count": 36,
     "metadata": {},
     "output_type": "execute_result"
    }
   ],
   "source": [
    "df['Location'][0].split()[-1]"
   ],
   "metadata": {
    "collapsed": false,
    "ExecuteTime": {
     "end_time": "2023-11-30T19:58:58.618549500Z",
     "start_time": "2023-11-30T19:58:58.576906600Z"
    }
   },
   "id": "4367a1f7a977a645"
  },
  {
   "cell_type": "code",
   "execution_count": 37,
   "outputs": [
    {
     "data": {
      "text/plain": "                                              Job Title  Min Salary  \\\n1647                             Genomic Data Scientist          50   \n1794  Scientist, Data, Methods and Analytics Immuno-...          46   \n1809            Scientist in Data, Methods, & Analytics          45   \n1880                                  Lead Data Analyst         143   \n\n      Max Salary Salary Estimate  Average Salary  Rating Company Name  \\\n1647          87       50 - 87              68.5     3.9     GSK\\n3.9   \n1794          83       46 - 83              64.5     3.9     GSK\\n3.9   \n1809         106      45 - 106              75.5     3.9     GSK\\n3.9   \n1880         237     143 - 237             190.0     3.9     GSK\\n3.9   \n\n                       Location              Size Founded Type of ownership  \\\n1647  Stevenage, United Kingdom  10000+ employees    1830  Company - Public   \n1794  Stevenage, United Kingdom  10000+ employees    1830  Company - Public   \n1809  Brentford, United Kingdom  10000+ employees    1830  Company - Public   \n1880  Brentford, United Kingdom  10000+ employees    1830  Company - Public   \n\n                       Industry                     Sector             Revenue  \n1647  Biotech & Pharmaceuticals  Biotech & Pharmaceuticals  $10+ billion (USD)  \n1794  Biotech & Pharmaceuticals  Biotech & Pharmaceuticals  $10+ billion (USD)  \n1809  Biotech & Pharmaceuticals  Biotech & Pharmaceuticals  $10+ billion (USD)  \n1880  Biotech & Pharmaceuticals  Biotech & Pharmaceuticals  $10+ billion (USD)  ",
      "text/html": "<div>\n<style scoped>\n    .dataframe tbody tr th:only-of-type {\n        vertical-align: middle;\n    }\n\n    .dataframe tbody tr th {\n        vertical-align: top;\n    }\n\n    .dataframe thead th {\n        text-align: right;\n    }\n</style>\n<table border=\"1\" class=\"dataframe\">\n  <thead>\n    <tr style=\"text-align: right;\">\n      <th></th>\n      <th>Job Title</th>\n      <th>Min Salary</th>\n      <th>Max Salary</th>\n      <th>Salary Estimate</th>\n      <th>Average Salary</th>\n      <th>Rating</th>\n      <th>Company Name</th>\n      <th>Location</th>\n      <th>Size</th>\n      <th>Founded</th>\n      <th>Type of ownership</th>\n      <th>Industry</th>\n      <th>Sector</th>\n      <th>Revenue</th>\n    </tr>\n  </thead>\n  <tbody>\n    <tr>\n      <th>1647</th>\n      <td>Genomic Data Scientist</td>\n      <td>50</td>\n      <td>87</td>\n      <td>50 - 87</td>\n      <td>68.5</td>\n      <td>3.9</td>\n      <td>GSK\\n3.9</td>\n      <td>Stevenage, United Kingdom</td>\n      <td>10000+ employees</td>\n      <td>1830</td>\n      <td>Company - Public</td>\n      <td>Biotech &amp; Pharmaceuticals</td>\n      <td>Biotech &amp; Pharmaceuticals</td>\n      <td>$10+ billion (USD)</td>\n    </tr>\n    <tr>\n      <th>1794</th>\n      <td>Scientist, Data, Methods and Analytics Immuno-...</td>\n      <td>46</td>\n      <td>83</td>\n      <td>46 - 83</td>\n      <td>64.5</td>\n      <td>3.9</td>\n      <td>GSK\\n3.9</td>\n      <td>Stevenage, United Kingdom</td>\n      <td>10000+ employees</td>\n      <td>1830</td>\n      <td>Company - Public</td>\n      <td>Biotech &amp; Pharmaceuticals</td>\n      <td>Biotech &amp; Pharmaceuticals</td>\n      <td>$10+ billion (USD)</td>\n    </tr>\n    <tr>\n      <th>1809</th>\n      <td>Scientist in Data, Methods, &amp; Analytics</td>\n      <td>45</td>\n      <td>106</td>\n      <td>45 - 106</td>\n      <td>75.5</td>\n      <td>3.9</td>\n      <td>GSK\\n3.9</td>\n      <td>Brentford, United Kingdom</td>\n      <td>10000+ employees</td>\n      <td>1830</td>\n      <td>Company - Public</td>\n      <td>Biotech &amp; Pharmaceuticals</td>\n      <td>Biotech &amp; Pharmaceuticals</td>\n      <td>$10+ billion (USD)</td>\n    </tr>\n    <tr>\n      <th>1880</th>\n      <td>Lead Data Analyst</td>\n      <td>143</td>\n      <td>237</td>\n      <td>143 - 237</td>\n      <td>190.0</td>\n      <td>3.9</td>\n      <td>GSK\\n3.9</td>\n      <td>Brentford, United Kingdom</td>\n      <td>10000+ employees</td>\n      <td>1830</td>\n      <td>Company - Public</td>\n      <td>Biotech &amp; Pharmaceuticals</td>\n      <td>Biotech &amp; Pharmaceuticals</td>\n      <td>$10+ billion (USD)</td>\n    </tr>\n  </tbody>\n</table>\n</div>"
     },
     "execution_count": 37,
     "metadata": {},
     "output_type": "execute_result"
    }
   ],
   "source": [
    "def GetState(value):\n",
    "    array = value.split()\n",
    "    return array[-1]\n",
    "\n",
    "\n",
    "df[df['Location'].str.contains(\"United\")]"
   ],
   "metadata": {
    "collapsed": false,
    "ExecuteTime": {
     "end_time": "2023-11-30T19:59:51.940568500Z",
     "start_time": "2023-11-30T19:59:51.875771600Z"
    }
   },
   "id": "8dc2d9a6452b570b"
  },
  {
   "cell_type": "code",
   "execution_count": 38,
   "outputs": [],
   "source": [
    "df = df[~df['Location'].str.contains(\"United\")]"
   ],
   "metadata": {
    "collapsed": false,
    "ExecuteTime": {
     "end_time": "2023-11-30T20:00:23.672793100Z",
     "start_time": "2023-11-30T20:00:23.653937600Z"
    }
   },
   "id": "6e418dd0b6a572a7"
  },
  {
   "cell_type": "code",
   "execution_count": 40,
   "outputs": [
    {
     "data": {
      "text/plain": "0       NY\n1       NY\n3       NJ\n4       NY\n5       NY\n        ..\n5881    OH\n5882    OH\n5883    OH\n5886    OH\n5887    OH\nName: Location, Length: 4226, dtype: object"
     },
     "execution_count": 40,
     "metadata": {},
     "output_type": "execute_result"
    }
   ],
   "source": [
    "df['Location'].apply(GetState)"
   ],
   "metadata": {
    "collapsed": false,
    "ExecuteTime": {
     "end_time": "2023-11-30T20:00:53.983709400Z",
     "start_time": "2023-11-30T20:00:53.974114900Z"
    }
   },
   "id": "dbfc820389fa5bf9"
  },
  {
   "cell_type": "code",
   "execution_count": 41,
   "outputs": [
    {
     "name": "stderr",
     "output_type": "stream",
     "text": [
      "C:\\Users\\mehdi\\AppData\\Local\\Temp\\ipykernel_15816\\2756138195.py:1: SettingWithCopyWarning: \n",
      "A value is trying to be set on a copy of a slice from a DataFrame.\n",
      "Try using .loc[row_indexer,col_indexer] = value instead\n",
      "\n",
      "See the caveats in the documentation: https://pandas.pydata.org/pandas-docs/stable/user_guide/indexing.html#returning-a-view-versus-a-copy\n",
      "  df['Location'] = df['Location'].apply(GetState)\n"
     ]
    }
   ],
   "source": [
    "df['Location'] = df['Location'].apply(GetState)"
   ],
   "metadata": {
    "collapsed": false,
    "ExecuteTime": {
     "end_time": "2023-11-30T20:01:27.332065900Z",
     "start_time": "2023-11-30T20:01:27.322167700Z"
    }
   },
   "id": "d0d45647af3ba744"
  },
  {
   "cell_type": "code",
   "execution_count": 42,
   "outputs": [
    {
     "data": {
      "text/plain": "                                              Job Title  Min Salary  \\\n0                                 Senior Data Scientist         111   \n1                     Data Scientist, Product Analytics         111   \n3                                          Data Analyst         111   \n4                                Director, Data Science         111   \n5                                        Data Scientist         111   \n...                                                 ...         ...   \n5881                              Information Scientist          38   \n5882              Supervisory Research Health Scientist          47   \n5883                  Senior SAS Programmer (Scientist)          66   \n5886  Senior Data Analyst - Product Analytics (open ...          67   \n5887                Manufacturing Data Analyst Engineer          42   \n\n      Max Salary Salary Estimate  Average Salary  Rating  \\\n0            181     111 - 181             146.0     3.5   \n1            181     111 - 181             146.0     4.5   \n3            181     111 - 181             146.0     3.4   \n4            181     111 - 181             146.0     3.4   \n5            181     111 - 181             146.0     2.9   \n...          ...             ...             ...     ...   \n5881          64     38  -  64              51.0     3.2   \n5882          89     47  -  89              68.0     4.2   \n5883         113    66  -  113              89.5     4.0   \n5886         111    67  -  111              89.0     4.0   \n5887          76     42  -  76              59.0     3.6   \n\n                                         Company Name Location  \\\n0                                         Hopper\\n3.5       NY   \n1                                        Noom US\\n4.5       NY   \n3                               Sapphire Digital\\n3.4       NJ   \n4                     United Entertainment Group\\n3.4       NY   \n5                                  IFG Companies\\n2.9       NY   \n...                                               ...      ...   \n5881                                         CAS\\n3.2       OH   \n5882  Centers for Disease Control and Prevention\\n4.2       OH   \n5883                                     Certara\\n4.0       OH   \n5886                                   New Relic\\n4.0       OH   \n5887                                 Hose Master\\n3.6       OH   \n\n                        Size Founded               Type of ownership  \\\n0      501 to 1000 employees    2007               Company - Private   \n1     1001 to 5000 employees    2008               Company - Private   \n3       201 to 500 employees    2019               Company - Private   \n4        51 to 200 employees    2007               Company - Private   \n5       201 to 500 employees    1985               Company - Private   \n...                      ...     ...                             ...   \n5881  1001 to 5000 Employees    1907  Subsidiary or Business Segment   \n5882        10000+ Employees    1946                      Government   \n5883   501 to 1000 Employees    2008                Company - Public   \n5886  1001 to 5000 Employees    2008                Company - Public   \n5887    201 to 500 Employees    1982               Company - Private   \n\n                                     Industry                     Sector  \\\n0                             Travel Agencies           Travel & Tourism   \n1                   Health, Beauty, & Fitness          Consumer Services   \n3                                    Internet     Information Technology   \n4                     Advertising & Marketing          Business Services   \n5                          Insurance Carriers                  Insurance   \n...                                       ...                        ...   \n5881  Enterprise Software & Network Solutions     Information Technology   \n5882                         Federal Agencies                 Government   \n5883                Biotech & Pharmaceuticals  Biotech & Pharmaceuticals   \n5886             Computer Hardware & Software     Information Technology   \n5887    Electrical & Electronic Manufacturing              Manufacturing   \n\n                         Revenue  \n0       Unknown / Non-Applicable  \n1       Unknown / Non-Applicable  \n3       Unknown / Non-Applicable  \n4       Unknown / Non-Applicable  \n5       Unknown / Non-Applicable  \n...                          ...  \n5881  $100 to $500 million (USD)  \n5882    Unknown / Non-Applicable  \n5883    Unknown / Non-Applicable  \n5886  $100 to $500 million (USD)  \n5887    Unknown / Non-Applicable  \n\n[4226 rows x 14 columns]",
      "text/html": "<div>\n<style scoped>\n    .dataframe tbody tr th:only-of-type {\n        vertical-align: middle;\n    }\n\n    .dataframe tbody tr th {\n        vertical-align: top;\n    }\n\n    .dataframe thead th {\n        text-align: right;\n    }\n</style>\n<table border=\"1\" class=\"dataframe\">\n  <thead>\n    <tr style=\"text-align: right;\">\n      <th></th>\n      <th>Job Title</th>\n      <th>Min Salary</th>\n      <th>Max Salary</th>\n      <th>Salary Estimate</th>\n      <th>Average Salary</th>\n      <th>Rating</th>\n      <th>Company Name</th>\n      <th>Location</th>\n      <th>Size</th>\n      <th>Founded</th>\n      <th>Type of ownership</th>\n      <th>Industry</th>\n      <th>Sector</th>\n      <th>Revenue</th>\n    </tr>\n  </thead>\n  <tbody>\n    <tr>\n      <th>0</th>\n      <td>Senior Data Scientist</td>\n      <td>111</td>\n      <td>181</td>\n      <td>111 - 181</td>\n      <td>146.0</td>\n      <td>3.5</td>\n      <td>Hopper\\n3.5</td>\n      <td>NY</td>\n      <td>501 to 1000 employees</td>\n      <td>2007</td>\n      <td>Company - Private</td>\n      <td>Travel Agencies</td>\n      <td>Travel &amp; Tourism</td>\n      <td>Unknown / Non-Applicable</td>\n    </tr>\n    <tr>\n      <th>1</th>\n      <td>Data Scientist, Product Analytics</td>\n      <td>111</td>\n      <td>181</td>\n      <td>111 - 181</td>\n      <td>146.0</td>\n      <td>4.5</td>\n      <td>Noom US\\n4.5</td>\n      <td>NY</td>\n      <td>1001 to 5000 employees</td>\n      <td>2008</td>\n      <td>Company - Private</td>\n      <td>Health, Beauty, &amp; Fitness</td>\n      <td>Consumer Services</td>\n      <td>Unknown / Non-Applicable</td>\n    </tr>\n    <tr>\n      <th>3</th>\n      <td>Data Analyst</td>\n      <td>111</td>\n      <td>181</td>\n      <td>111 - 181</td>\n      <td>146.0</td>\n      <td>3.4</td>\n      <td>Sapphire Digital\\n3.4</td>\n      <td>NJ</td>\n      <td>201 to 500 employees</td>\n      <td>2019</td>\n      <td>Company - Private</td>\n      <td>Internet</td>\n      <td>Information Technology</td>\n      <td>Unknown / Non-Applicable</td>\n    </tr>\n    <tr>\n      <th>4</th>\n      <td>Director, Data Science</td>\n      <td>111</td>\n      <td>181</td>\n      <td>111 - 181</td>\n      <td>146.0</td>\n      <td>3.4</td>\n      <td>United Entertainment Group\\n3.4</td>\n      <td>NY</td>\n      <td>51 to 200 employees</td>\n      <td>2007</td>\n      <td>Company - Private</td>\n      <td>Advertising &amp; Marketing</td>\n      <td>Business Services</td>\n      <td>Unknown / Non-Applicable</td>\n    </tr>\n    <tr>\n      <th>5</th>\n      <td>Data Scientist</td>\n      <td>111</td>\n      <td>181</td>\n      <td>111 - 181</td>\n      <td>146.0</td>\n      <td>2.9</td>\n      <td>IFG Companies\\n2.9</td>\n      <td>NY</td>\n      <td>201 to 500 employees</td>\n      <td>1985</td>\n      <td>Company - Private</td>\n      <td>Insurance Carriers</td>\n      <td>Insurance</td>\n      <td>Unknown / Non-Applicable</td>\n    </tr>\n    <tr>\n      <th>...</th>\n      <td>...</td>\n      <td>...</td>\n      <td>...</td>\n      <td>...</td>\n      <td>...</td>\n      <td>...</td>\n      <td>...</td>\n      <td>...</td>\n      <td>...</td>\n      <td>...</td>\n      <td>...</td>\n      <td>...</td>\n      <td>...</td>\n      <td>...</td>\n    </tr>\n    <tr>\n      <th>5881</th>\n      <td>Information Scientist</td>\n      <td>38</td>\n      <td>64</td>\n      <td>38  -  64</td>\n      <td>51.0</td>\n      <td>3.2</td>\n      <td>CAS\\n3.2</td>\n      <td>OH</td>\n      <td>1001 to 5000 Employees</td>\n      <td>1907</td>\n      <td>Subsidiary or Business Segment</td>\n      <td>Enterprise Software &amp; Network Solutions</td>\n      <td>Information Technology</td>\n      <td>$100 to $500 million (USD)</td>\n    </tr>\n    <tr>\n      <th>5882</th>\n      <td>Supervisory Research Health Scientist</td>\n      <td>47</td>\n      <td>89</td>\n      <td>47  -  89</td>\n      <td>68.0</td>\n      <td>4.2</td>\n      <td>Centers for Disease Control and Prevention\\n4.2</td>\n      <td>OH</td>\n      <td>10000+ Employees</td>\n      <td>1946</td>\n      <td>Government</td>\n      <td>Federal Agencies</td>\n      <td>Government</td>\n      <td>Unknown / Non-Applicable</td>\n    </tr>\n    <tr>\n      <th>5883</th>\n      <td>Senior SAS Programmer (Scientist)</td>\n      <td>66</td>\n      <td>113</td>\n      <td>66  -  113</td>\n      <td>89.5</td>\n      <td>4.0</td>\n      <td>Certara\\n4.0</td>\n      <td>OH</td>\n      <td>501 to 1000 Employees</td>\n      <td>2008</td>\n      <td>Company - Public</td>\n      <td>Biotech &amp; Pharmaceuticals</td>\n      <td>Biotech &amp; Pharmaceuticals</td>\n      <td>Unknown / Non-Applicable</td>\n    </tr>\n    <tr>\n      <th>5886</th>\n      <td>Senior Data Analyst - Product Analytics (open ...</td>\n      <td>67</td>\n      <td>111</td>\n      <td>67  -  111</td>\n      <td>89.0</td>\n      <td>4.0</td>\n      <td>New Relic\\n4.0</td>\n      <td>OH</td>\n      <td>1001 to 5000 Employees</td>\n      <td>2008</td>\n      <td>Company - Public</td>\n      <td>Computer Hardware &amp; Software</td>\n      <td>Information Technology</td>\n      <td>$100 to $500 million (USD)</td>\n    </tr>\n    <tr>\n      <th>5887</th>\n      <td>Manufacturing Data Analyst Engineer</td>\n      <td>42</td>\n      <td>76</td>\n      <td>42  -  76</td>\n      <td>59.0</td>\n      <td>3.6</td>\n      <td>Hose Master\\n3.6</td>\n      <td>OH</td>\n      <td>201 to 500 Employees</td>\n      <td>1982</td>\n      <td>Company - Private</td>\n      <td>Electrical &amp; Electronic Manufacturing</td>\n      <td>Manufacturing</td>\n      <td>Unknown / Non-Applicable</td>\n    </tr>\n  </tbody>\n</table>\n<p>4226 rows × 14 columns</p>\n</div>"
     },
     "execution_count": 42,
     "metadata": {},
     "output_type": "execute_result"
    }
   ],
   "source": [
    "df"
   ],
   "metadata": {
    "collapsed": false,
    "ExecuteTime": {
     "end_time": "2023-11-30T20:01:46.706330800Z",
     "start_time": "2023-11-30T20:01:46.694761Z"
    }
   },
   "id": "4fa8060af6fca154"
  },
  {
   "cell_type": "code",
   "execution_count": 43,
   "outputs": [
    {
     "data": {
      "text/plain": "Location\nCA    999\nTX    879\nOH    340\nIL    287\nNY    233\nAZ    226\nPA    219\nFL    211\nMA    203\nNJ    193\nMI    180\nVA    113\nDC     71\nMD     54\nDE      8\nWI      3\nGA      1\nME      1\nKY      1\nNM      1\nNH      1\nIN      1\nNC      1\nName: count, dtype: int64"
     },
     "execution_count": 43,
     "metadata": {},
     "output_type": "execute_result"
    }
   ],
   "source": [
    "df['Location'].value_counts()"
   ],
   "metadata": {
    "collapsed": false,
    "ExecuteTime": {
     "end_time": "2023-11-30T20:02:01.458786Z",
     "start_time": "2023-11-30T20:02:01.442634900Z"
    }
   },
   "id": "758fc8a0f3e5e890"
  },
  {
   "cell_type": "code",
   "execution_count": 46,
   "outputs": [
    {
     "data": {
      "text/plain": "<Axes: ylabel='Frequency'>"
     },
     "execution_count": 46,
     "metadata": {},
     "output_type": "execute_result"
    },
    {
     "data": {
      "text/plain": "<Figure size 640x480 with 1 Axes>",
      "image/png": "[encoded data removed]"
     },
     "metadata": {},
     "output_type": "display_data"
    }
   ],
   "source": [
    "state_value_counts = df['Location'].value_counts()\n",
    "state_value_counts.plot.hist(bins=len(state_value_counts), color=\"Blue\", edgecolor=\"Black\")"
   ],
   "metadata": {
    "collapsed": false,
    "ExecuteTime": {
     "end_time": "2023-11-30T20:04:53.700147400Z",
     "start_time": "2023-11-30T20:04:53.543020900Z"
    }
   },
   "id": "7b114671c27c890b"
  },
  {
   "cell_type": "code",
   "execution_count": 49,
   "outputs": [
    {
     "data": {
      "text/plain": "<Axes: xlabel='Location'>"
     },
     "execution_count": 49,
     "metadata": {},
     "output_type": "execute_result"
    },
    {
     "data": {
      "text/plain": "<Figure size 640x480 with 1 Axes>",
      "image/png": "[encoded data removed]"
     },
     "metadata": {},
     "output_type": "display_data"
    }
   ],
   "source": [
    "state_value_counts.plot.bar()"
   ],
   "metadata": {
    "collapsed": false,
    "ExecuteTime": {
     "end_time": "2023-11-30T20:05:44.757755200Z",
     "start_time": "2023-11-30T20:05:44.593921100Z"
    }
   },
   "id": "6f744e7705022517"
  },
  {
   "cell_type": "code",
   "execution_count": 52,
   "outputs": [
    {
     "data": {
      "text/plain": "                                      Job Title  Min Salary  Max Salary  \\\n3961  Seat Services Data Analyst (Fayetteville)          45          96   \n\n     Salary Estimate  Average Salary  Rating Company Name Location  \\\n3961     45  -  96              70.5     3.9  Leidos\\n3.9       NC   \n\n                  Size Founded Type of ownership             Industry  \\\n3961  10000+ Employees    1969  Company - Public  Aerospace & Defense   \n\n                   Sector             Revenue  \n3961  Aerospace & Defense  $10+ billion (USD)  ",
      "text/html": "<div>\n<style scoped>\n    .dataframe tbody tr th:only-of-type {\n        vertical-align: middle;\n    }\n\n    .dataframe tbody tr th {\n        vertical-align: top;\n    }\n\n    .dataframe thead th {\n        text-align: right;\n    }\n</style>\n<table border=\"1\" class=\"dataframe\">\n  <thead>\n    <tr style=\"text-align: right;\">\n      <th></th>\n      <th>Job Title</th>\n      <th>Min Salary</th>\n      <th>Max Salary</th>\n      <th>Salary Estimate</th>\n      <th>Average Salary</th>\n      <th>Rating</th>\n      <th>Company Name</th>\n      <th>Location</th>\n      <th>Size</th>\n      <th>Founded</th>\n      <th>Type of ownership</th>\n      <th>Industry</th>\n      <th>Sector</th>\n      <th>Revenue</th>\n    </tr>\n  </thead>\n  <tbody>\n    <tr>\n      <th>3961</th>\n      <td>Seat Services Data Analyst (Fayetteville)</td>\n      <td>45</td>\n      <td>96</td>\n      <td>45  -  96</td>\n      <td>70.5</td>\n      <td>3.9</td>\n      <td>Leidos\\n3.9</td>\n      <td>NC</td>\n      <td>10000+ Employees</td>\n      <td>1969</td>\n      <td>Company - Public</td>\n      <td>Aerospace &amp; Defense</td>\n      <td>Aerospace &amp; Defense</td>\n      <td>$10+ billion (USD)</td>\n    </tr>\n  </tbody>\n</table>\n</div>"
     },
     "execution_count": 52,
     "metadata": {},
     "output_type": "execute_result"
    }
   ],
   "source": [
    "df[df['Location'] == \"NC\"]"
   ],
   "metadata": {
    "collapsed": false,
    "ExecuteTime": {
     "end_time": "2023-11-30T20:06:25.996482700Z",
     "start_time": "2023-11-30T20:06:25.981253700Z"
    }
   },
   "id": "7050febb1730510c"
  },
  {
   "cell_type": "code",
   "execution_count": 53,
   "outputs": [],
   "source": [
    "df.to_csv(\"CleanedDataFrame.csv\")"
   ],
   "metadata": {
    "collapsed": false,
    "ExecuteTime": {
     "end_time": "2023-11-30T20:08:00.542202600Z",
     "start_time": "2023-11-30T20:08:00.475744Z"
    }
   },
   "id": "ba714eaca2c82161"
  }
 ],
 "metadata": {
  "kernelspec": {
   "display_name": "Python 3",
   "language": "python",
   "name": "python3"
  },
  "language_info": {
   "codemirror_mode": {
    "name": "ipython",
    "version": 2
   },
   "file_extension": ".py",
   "mimetype": "text/x-python",
   "name": "python",
   "nbconvert_exporter": "python",
   "pygments_lexer": "ipython2",
   "version": "2.7.6"
  }
 },
 "nbformat": 4,
 "nbformat_minor": 5
}
